{
 "cells": [
  {
   "cell_type": "markdown",
   "metadata": {},
   "source": [
    "# Files Task"
   ]
  },
  {
   "cell_type": "code",
   "execution_count": 21,
   "metadata": {},
   "outputs": [],
   "source": [
    "tfile=open('test.txt','w')\n",
    "tfile.write(\"hello world \\n\")\n",
    "tfile.write(\"hello world \\n\")\n",
    "tfile.write(\"hello world \\n\")\n",
    "tfile.write(\"hello world \\n\")\n",
    "tfile.write(\"hello world \\n\")\n",
    "tfile.close()\n"
   ]
  },
  {
   "cell_type": "code",
   "execution_count": 22,
   "metadata": {},
   "outputs": [],
   "source": [
    "tfiler=open('test.txt','r')\n",
    "x= tfiler.readlines()\n",
    "x[0]=x[0].upper()\n",
    "x[1]=x[1].upper()\n",
    "x[2]=x[2].upper()\n",
    "x[3]=x[3].upper()\n",
    "x[4]=x[4].upper()\n",
    "tfiler.close()\n"
   ]
  },
  {
   "cell_type": "code",
   "execution_count": 23,
   "metadata": {},
   "outputs": [],
   "source": [
    "tfilew2=open('test.txt','w')\n",
    "tfilew2.writelines(x)\n",
    "tfilew2.close()"
   ]
  },
  {
   "cell_type": "code",
   "execution_count": 24,
   "metadata": {},
   "outputs": [],
   "source": [
    "tfiler2=open('test.txt','r')\n",
    "x2= tfiler2.readlines()\n",
    "line3=x2[2].capitalize()\n",
    "x2[2]=line3\n",
    "tfiler2.close()"
   ]
  },
  {
   "cell_type": "code",
   "execution_count": 25,
   "metadata": {},
   "outputs": [],
   "source": [
    "tfilew3=open('test.txt','w')\n",
    "tfilew3.writelines(x2)\n",
    "tfilew3.close()"
   ]
  },
  {
   "cell_type": "code",
   "execution_count": 26,
   "metadata": {},
   "outputs": [],
   "source": [
    "tfiler3=open('test.txt','a')\n",
    "tfiler3.write(\"I Love python\")\n",
    "tfiler3.close()"
   ]
  },
  {
   "cell_type": "code",
   "execution_count": null,
   "metadata": {},
   "outputs": [],
   "source": []
  }
 ],
 "metadata": {
  "kernelspec": {
   "display_name": "Python 3",
   "language": "python",
   "name": "python3"
  },
  "language_info": {
   "codemirror_mode": {
    "name": "ipython",
    "version": 3
   },
   "file_extension": ".py",
   "mimetype": "text/x-python",
   "name": "python",
   "nbconvert_exporter": "python",
   "pygments_lexer": "ipython3",
   "version": "3.7.3"
  }
 },
 "nbformat": 4,
 "nbformat_minor": 2
}
