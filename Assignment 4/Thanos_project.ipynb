{
 "cells": [
  {
   "cell_type": "code",
   "execution_count": 2,
   "metadata": {},
   "outputs": [],
   "source": [
    "import os\n",
    "import random"
   ]
  },
  {
   "cell_type": "code",
   "execution_count": 3,
   "metadata": {},
   "outputs": [],
   "source": [
    "thanos=os.listdir('Thanos')"
   ]
  },
  {
   "cell_type": "code",
   "execution_count": 4,
   "metadata": {},
   "outputs": [
    {
     "name": "stdout",
     "output_type": "stream",
     "text": [
      "['a (1).jpg', 'a (10).jpg', 'a (11).jpg', 'a (12).jpg', 'a (13).jpg', 'a (14).jpg', 'a (15).jpg', 'a (16).jpg', 'a (17).jpg', 'a (18).jpg', 'a (19).jpg', 'a (2).jpg', 'a (20).jpg', 'a (21).jpg', 'a (22).jpg', 'a (23).jpg', 'a (24).jpg', 'a (25).jpg', 'a (26).jpg', 'a (27).jpg', 'a (28).jpg', 'a (29).jpg', 'a (3).jpg', 'a (30).jpg', 'a (31).jpg', 'a (32).jpg', 'a (33).jpg', 'a (34).jpg', 'a (35).jpg', 'a (36).jpg', 'a (37).jpg', 'a (38).jpg', 'a (39).jpg', 'a (4).jpg', 'a (40).jpg', 'a (41).jpg', 'a (42).jpg', 'a (43).jpg', 'a (44).jpg', 'a (45).jpg', 'a (46).jpg', 'a (47).jpg', 'a (48).jpg', 'a (49).jpg', 'a (5).jpg', 'a (50).jpg', 'a (6).jpg', 'a (7).jpg', 'a (8).jpg', 'a (9).jpg']\n"
     ]
    }
   ],
   "source": [
    "print(thanos)"
   ]
  },
  {
   "cell_type": "code",
   "execution_count": 5,
   "metadata": {},
   "outputs": [
    {
     "data": {
      "text/plain": [
       "50"
      ]
     },
     "execution_count": 5,
     "metadata": {},
     "output_type": "execute_result"
    }
   ],
   "source": [
    "len(thanos)"
   ]
  },
  {
   "cell_type": "code",
   "execution_count": 6,
   "metadata": {},
   "outputs": [],
   "source": [
    "r1=[\"a\",\"b\",\"c\",\"d\",\"e\",\"f\",\"g\",\"h\",\"i\",\"j\"]\n",
    "r3=[\"k\",\"l\",\"m\",\"n\",\"o\",\"p\",\"q\",\"r\",\"s\",\"t\"]\n",
    "r2=[\"0\",\"1\",\"2\",\"3\",\"4\",\"5\",\"6\",\"7\",\"8\",\"9\"]\n",
    "r4=[\"!\",\"@\",\"#\",\"$\",\"%\",\"^\",\"&\",\"*\",\"~\",\"+\"]\n",
    "r5=[\"u\",\"v\",\"w\",\"x\",\"y\",\"Z\",\"A\",\"B\",\"C\",\"D\"]"
   ]
  },
  {
   "cell_type": "code",
   "execution_count": 7,
   "metadata": {},
   "outputs": [
    {
     "data": {
      "text/plain": [
       "['a (1).jpg',\n",
       " 'a (10).jpg',\n",
       " 'a (11).jpg',\n",
       " 'a (12).jpg',\n",
       " 'a (13).jpg',\n",
       " 'a (14).jpg',\n",
       " 'a (15).jpg',\n",
       " 'a (16).jpg',\n",
       " 'a (17).jpg',\n",
       " 'a (18).jpg',\n",
       " 'a (19).jpg',\n",
       " 'a (2).jpg',\n",
       " 'a (20).jpg',\n",
       " 'a (21).jpg',\n",
       " 'a (22).jpg',\n",
       " 'a (23).jpg',\n",
       " 'a (24).jpg',\n",
       " 'a (25).jpg',\n",
       " 'a (26).jpg',\n",
       " 'a (27).jpg',\n",
       " 'a (28).jpg',\n",
       " 'a (29).jpg',\n",
       " 'a (3).jpg',\n",
       " 'a (30).jpg',\n",
       " 'a (31).jpg',\n",
       " 'a (32).jpg',\n",
       " 'a (33).jpg',\n",
       " 'a (34).jpg',\n",
       " 'a (35).jpg',\n",
       " 'a (36).jpg',\n",
       " 'a (37).jpg',\n",
       " 'a (38).jpg',\n",
       " 'a (39).jpg',\n",
       " 'a (4).jpg',\n",
       " 'a (40).jpg',\n",
       " 'a (41).jpg',\n",
       " 'a (42).jpg',\n",
       " 'a (43).jpg',\n",
       " 'a (44).jpg',\n",
       " 'a (45).jpg',\n",
       " 'a (46).jpg',\n",
       " 'a (47).jpg',\n",
       " 'a (48).jpg',\n",
       " 'a (49).jpg',\n",
       " 'a (5).jpg',\n",
       " 'a (50).jpg',\n",
       " 'a (6).jpg',\n",
       " 'a (7).jpg',\n",
       " 'a (8).jpg',\n",
       " 'a (9).jpg']"
      ]
     },
     "execution_count": 7,
     "metadata": {},
     "output_type": "execute_result"
    }
   ],
   "source": [
    "os.listdir('thanos/')"
   ]
  },
  {
   "cell_type": "code",
   "execution_count": 30,
   "metadata": {},
   "outputs": [],
   "source": [
    "for i in thanos:\n",
    "    x=random.choice(r1)\n",
    "    y=random.choice(r2)\n",
    "    z=random.choice(r3)\n",
    "    f=random.choice(r4)\n",
    "    l=random.choice(r5)\n",
    "    finalname=x+y+z+f+l\n",
    "    src=\"Thanos/\"\n",
    "    #print(thanos[i])\n",
    "    os.rename(f'Thanos/{i}',f'Thanos/{finalname}.jpg')\n",
    "    thanos.remove(i)"
   ]
  },
  {
   "cell_type": "code",
   "execution_count": 31,
   "metadata": {},
   "outputs": [
    {
     "data": {
      "text/plain": [
       "0"
      ]
     },
     "execution_count": 31,
     "metadata": {},
     "output_type": "execute_result"
    }
   ],
   "source": [
    "len(thanos)"
   ]
  },
  {
   "cell_type": "code",
   "execution_count": 32,
   "metadata": {},
   "outputs": [
    {
     "name": "stdout",
     "output_type": "stream",
     "text": [
      "a (43).jpg\n"
     ]
    }
   ],
   "source": [
    "print(i)"
   ]
  },
  {
   "cell_type": "code",
   "execution_count": null,
   "metadata": {},
   "outputs": [],
   "source": []
  },
  {
   "cell_type": "code",
   "execution_count": null,
   "metadata": {},
   "outputs": [],
   "source": []
  }
 ],
 "metadata": {
  "kernelspec": {
   "display_name": "Python 3",
   "language": "python",
   "name": "python3"
  },
  "language_info": {
   "codemirror_mode": {
    "name": "ipython",
    "version": 3
   },
   "file_extension": ".py",
   "mimetype": "text/x-python",
   "name": "python",
   "nbconvert_exporter": "python",
   "pygments_lexer": "ipython3",
   "version": "3.7.3"
  }
 },
 "nbformat": 4,
 "nbformat_minor": 2
}
