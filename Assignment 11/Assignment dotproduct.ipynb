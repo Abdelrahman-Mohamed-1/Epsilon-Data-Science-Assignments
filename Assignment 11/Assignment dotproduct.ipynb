{
 "cells": [
  {
   "cell_type": "markdown",
   "metadata": {},
   "source": [
    "### 1- dot product program\n"
   ]
  },
  {
   "cell_type": "code",
   "execution_count": 1,
   "metadata": {},
   "outputs": [],
   "source": [
    "import numpy as np\n",
    "import math as mth"
   ]
  },
  {
   "cell_type": "code",
   "execution_count": 2,
   "metadata": {},
   "outputs": [
    {
     "name": "stdout",
     "output_type": "stream",
     "text": [
      "Enter a vectors value: 2 2\n"
     ]
    }
   ],
   "source": [
    "fvector= list(map(int, input(\"Enter a vectors value: \").split()))"
   ]
  },
  {
   "cell_type": "code",
   "execution_count": 3,
   "metadata": {},
   "outputs": [
    {
     "name": "stdout",
     "output_type": "stream",
     "text": [
      "Enter a vectors value: 0 3\n"
     ]
    }
   ],
   "source": [
    "svector= list(map(int, input(\"Enter a vectors value: \").split()))"
   ]
  },
  {
   "cell_type": "code",
   "execution_count": 4,
   "metadata": {},
   "outputs": [],
   "source": [
    "def dotProduct(a,b):\n",
    "    dotproduct1=0\n",
    "    i=0\n",
    "    if len(a)==len(b):\n",
    "        while(i<len(a)):\n",
    "            dotproduct1+=a[i]*b[i]\n",
    "            i+=1\n",
    "        print(dotproduct1)\n",
    "    else:\n",
    "        print(\"lenth of vectors not equal \")"
   ]
  },
  {
   "cell_type": "code",
   "execution_count": 5,
   "metadata": {},
   "outputs": [
    {
     "name": "stdout",
     "output_type": "stream",
     "text": [
      "6\n"
     ]
    }
   ],
   "source": [
    "dotProduct(fvector,svector)"
   ]
  },
  {
   "cell_type": "markdown",
   "metadata": {},
   "source": [
    "##### -----------------------------------------------------------------------------------------------------------------------------------------------------------------------"
   ]
  },
  {
   "cell_type": "markdown",
   "metadata": {},
   "source": [
    "#### dot product program"
   ]
  },
  {
   "cell_type": "code",
   "execution_count": 6,
   "metadata": {},
   "outputs": [],
   "source": [
    "def dotProduct2(a,b):\n",
    "    if len(a)==len(b):\n",
    "        print(np.dot(a,b))\n",
    "    else:\n",
    "        print(\"lenth of vectors not equal \")"
   ]
  },
  {
   "cell_type": "code",
   "execution_count": 7,
   "metadata": {},
   "outputs": [
    {
     "name": "stdout",
     "output_type": "stream",
     "text": [
      "6\n"
     ]
    }
   ],
   "source": [
    "dotProduct(fvector,svector)"
   ]
  },
  {
   "cell_type": "code",
   "execution_count": 8,
   "metadata": {},
   "outputs": [
    {
     "name": "stdout",
     "output_type": "stream",
     "text": [
      "6\n"
     ]
    }
   ],
   "source": [
    "dotProduct2(fvector,svector)"
   ]
  },
  {
   "cell_type": "markdown",
   "metadata": {},
   "source": [
    "# --------------------------------------------------------------------------------------------------------------"
   ]
  },
  {
   "cell_type": "markdown",
   "metadata": {},
   "source": [
    "# secondly  angle between them"
   ]
  },
  {
   "cell_type": "code",
   "execution_count": 9,
   "metadata": {},
   "outputs": [],
   "source": [
    "def angle(a,b):\n",
    "    i=0\n",
    "    tfv=0\n",
    "    fv=0\n",
    "    sv=0\n",
    "    tsv=0\n",
    "    eq=0\n",
    "    dotproduct1=0\n",
    "    angle1=0\n",
    "    if len(a)==len(b):\n",
    "        while (i<len(a)):\n",
    "            fv=pow(a[i],2)\n",
    "            tfv+=fv\n",
    "            ##### vector 2\n",
    "            sv=pow(b[i],2)\n",
    "            tsv+=sv\n",
    "            i+=1\n",
    "         ##### dotproduct\n",
    "        dotproduct1=np.dot(a,b)\n",
    "        #################\n",
    "        tfv=mth.sqrt(tfv)\n",
    "        tsv=mth.sqrt(tsv)\n",
    "        ###############\n",
    "        eq=(dotproduct1)/(tfv*tsv)\n",
    "        #angle1=np.arccos(eq)\n",
    "        angle1=mth.degrees(mth.acos(eq))\n",
    "        print(tfv)\n",
    "        print(tsv)\n",
    "        print(dotproduct1)\n",
    "        print(eq)\n",
    "        print(\"Angle = \"+ str(angle1))\n",
    "    else:\n",
    "        print(\"lenth of vectors not equal \")"
   ]
  },
  {
   "cell_type": "code",
   "execution_count": 10,
   "metadata": {
    "scrolled": true
   },
   "outputs": [
    {
     "name": "stdout",
     "output_type": "stream",
     "text": [
      "2.8284271247461903\n",
      "3.0\n",
      "6\n",
      "0.7071067811865475\n",
      "Angle = 45.00000000000001\n"
     ]
    }
   ],
   "source": [
    "angle(fvector,svector)"
   ]
  }
 ],
 "metadata": {
  "kernelspec": {
   "display_name": "Python 3",
   "language": "python",
   "name": "python3"
  },
  "language_info": {
   "codemirror_mode": {
    "name": "ipython",
    "version": 3
   },
   "file_extension": ".py",
   "mimetype": "text/x-python",
   "name": "python",
   "nbconvert_exporter": "python",
   "pygments_lexer": "ipython3",
   "version": "3.7.3"
  }
 },
 "nbformat": 4,
 "nbformat_minor": 2
}
